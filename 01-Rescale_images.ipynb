{
 "cells": [
  {
   "cell_type": "code",
   "execution_count": 63,
   "metadata": {},
   "outputs": [],
   "source": [
    "from PIL import Image\n",
    "import numpy as np\n",
    "import cv2\n",
    "\n",
    "def make_square(img_path, folder, filename):\n",
    "    img = Image.open(img_path)\n",
    "    img_np = np.array(img)\n",
    "    \n",
    "    height, width, _ = img_np.shape\n",
    "    if height == width:\n",
    "        img.save(output_path)\n",
    "        return\n",
    "    \n",
    "    if height > width:\n",
    "        # Add padding to the width\n",
    "        padding = (height - width) // 2\n",
    "        padded_img = cv2.copyMakeBorder(img_np, 0, 0, padding, padding, cv2.BORDER_REFLECT)\n",
    "    else:\n",
    "        # Add padding to the height\n",
    "        padding = (width - height) // 2\n",
    "        padded_img = cv2.copyMakeBorder(img_np, padding, padding, 0, 0, cv2.BORDER_REFLECT)\n",
    "    \n",
    "    padded_img_pil = Image.fromarray(padded_img)\n",
    "    \n",
    "    output_path = folder + filename + \".jpg\"\n",
    "\n",
    "    resized_img = padded_img_pil.resize([640, 640])\n",
    "    resized_img.save(output_path)\n",
    "    return resized_img\n",
    "# Ejemplo de uso\n",
    "#make_square(\"D:/Técnicas avanzadas - Dataset/Ipomea_Heredaceae-20240515T231450Z-001/Ipomea_Heredaceae/51.jpg\", \"\",\"1\")\n"
   ]
  },
  {
   "cell_type": "markdown",
   "metadata": {},
   "source": [
    "# **Ipomea**"
   ]
  },
  {
   "cell_type": "code",
   "execution_count": 61,
   "metadata": {},
   "outputs": [
    {
     "data": {
      "text/plain": [
       "['1.jpg',\n",
       " '10.jpg',\n",
       " '11.jpg',\n",
       " '12.jpg',\n",
       " '13.jpg',\n",
       " '14.jpg',\n",
       " '15.jpg',\n",
       " '16.jpg',\n",
       " '17.jpg',\n",
       " '18.jpg',\n",
       " '19.jpg',\n",
       " '2.jpg',\n",
       " '20.jpg',\n",
       " '21.jpg',\n",
       " '22.jpg',\n",
       " '23.jpg',\n",
       " '24.jpg',\n",
       " '25.jpg',\n",
       " '26.jpg',\n",
       " '27.jpg',\n",
       " '28.jpg',\n",
       " '29.jpg',\n",
       " '3.jpg',\n",
       " '30.jpg',\n",
       " '31.jpg',\n",
       " '32.jpg',\n",
       " '33.jpg',\n",
       " '34.jpg',\n",
       " '35.jpg',\n",
       " '36.jpg',\n",
       " '37.jpg',\n",
       " '38.jpg',\n",
       " '39.jpg',\n",
       " '4.jpg',\n",
       " '40.jpg',\n",
       " '41.jpg',\n",
       " '42.jpg',\n",
       " '43.jpg',\n",
       " '44.jpg',\n",
       " '45.jpg',\n",
       " '46.jpg',\n",
       " '47.jpg',\n",
       " '48.jpg',\n",
       " '5.jpg',\n",
       " '51.jpg',\n",
       " '52.jpg',\n",
       " '53.jpg',\n",
       " '54.jpg',\n",
       " '6.jpg',\n",
       " '7.jpg',\n",
       " '8.jpg',\n",
       " '9.jpg']"
      ]
     },
     "execution_count": 61,
     "metadata": {},
     "output_type": "execute_result"
    }
   ],
   "source": [
    "import os\n",
    "path = \"D:/Técnicas avanzadas - Dataset/Ipomea_Heredaceae-20240515T231450Z-001/Ipomea_Heredaceae\"\n",
    "files = os.listdir(path)\n",
    "files"
   ]
  },
  {
   "cell_type": "code",
   "execution_count": 64,
   "metadata": {},
   "outputs": [],
   "source": [
    "for i, file in enumerate(files):\n",
    "    img = make_square(os.path.join(path,file), \"ipomea/\", str(i))\n",
    "    img = img.resize([640, 640])"
   ]
  },
  {
   "cell_type": "markdown",
   "metadata": {},
   "source": [
    "# **Ipomea Lacumosa**"
   ]
  },
  {
   "cell_type": "code",
   "execution_count": 66,
   "metadata": {},
   "outputs": [
    {
     "data": {
      "text/plain": [
       "['1.jpg',\n",
       " '10.jpg',\n",
       " '11.jpg',\n",
       " '12.jpg',\n",
       " '13.jpg',\n",
       " '14.jpg',\n",
       " '15.jpg',\n",
       " '16.jpg',\n",
       " '17.jpg',\n",
       " '18.jpg',\n",
       " '19.jpg',\n",
       " '2.jpg',\n",
       " '20.jpg',\n",
       " '21.jpg',\n",
       " '22.jpg',\n",
       " '23.jpg',\n",
       " '24.jpg',\n",
       " '25.jpg',\n",
       " '26.jpg',\n",
       " '27.jpg',\n",
       " '28.jpg',\n",
       " '29.jpg',\n",
       " '3.jpg',\n",
       " '30.jpg',\n",
       " '31.jpg',\n",
       " '32.jpg',\n",
       " '33.jpg',\n",
       " '34.jpg',\n",
       " '35.jpg',\n",
       " '36.jpg',\n",
       " '37.jpg',\n",
       " '38.jpg',\n",
       " '39.jpg',\n",
       " '4.jpg',\n",
       " '40.jpg',\n",
       " '41.jpg',\n",
       " '42.jpg',\n",
       " '43.jpg',\n",
       " '44.jpg',\n",
       " '45.jpg',\n",
       " '46.jpg',\n",
       " '47.jpg',\n",
       " '48.jpg',\n",
       " '49.jpg',\n",
       " '5.jpg',\n",
       " '50.jpg',\n",
       " '51.jpg',\n",
       " '52.jpg',\n",
       " '53.jpg',\n",
       " '54.jpg',\n",
       " '55.jpg',\n",
       " '56.jpg',\n",
       " '57.jpg',\n",
       " '58.jpg',\n",
       " '59.jpg',\n",
       " '6.jpg',\n",
       " '60.jpg',\n",
       " '61.jpg',\n",
       " '62.jpg',\n",
       " '63.jpg',\n",
       " '64.jpg',\n",
       " '65.jpg',\n",
       " '66.jpg',\n",
       " '67.jpg',\n",
       " '68.jpg',\n",
       " '69.jpg',\n",
       " '7.jpg',\n",
       " '70.jpg',\n",
       " '71.jpg',\n",
       " '72.jpg',\n",
       " '73.jpg',\n",
       " '74.jpg',\n",
       " '75.jpg',\n",
       " '76.jpg',\n",
       " '77.jpg',\n",
       " '78.jpg',\n",
       " '8.jpg',\n",
       " '9.jpg',\n",
       " '95.jpg',\n",
       " 'Base',\n",
       " 'Ipomoea_Lacumosa_Base']"
      ]
     },
     "execution_count": 66,
     "metadata": {},
     "output_type": "execute_result"
    }
   ],
   "source": [
    "path = \"D:/Técnicas avanzadas - Dataset/Ipomoea_Lacumosa-20240515T231451Z-001/Ipomoea_Lacumosa\"\n",
    "files = os.listdir(path)"
   ]
  },
  {
   "cell_type": "code",
   "execution_count": 68,
   "metadata": {},
   "outputs": [],
   "source": [
    "for i, file in enumerate(files):\n",
    "    if file.endswith(\"jpg\"):\n",
    "        img = make_square(os.path.join(path,file), \"lacumosa/\", str(i))\n",
    "        img = img.resize([640, 640])"
   ]
  },
  {
   "cell_type": "markdown",
   "metadata": {},
   "source": [
    "## Malva polviflora"
   ]
  },
  {
   "cell_type": "code",
   "execution_count": 69,
   "metadata": {},
   "outputs": [],
   "source": [
    "path = \"D:/Técnicas avanzadas - Dataset/Malva_Porviflora-20240515T231453Z-001/Malva_Porviflora\"\n",
    "files = os.listdir(path)"
   ]
  },
  {
   "cell_type": "code",
   "execution_count": 70,
   "metadata": {},
   "outputs": [],
   "source": [
    "for i, file in enumerate(files):\n",
    "    if file.endswith(\"jpg\"):\n",
    "        img = make_square(os.path.join(path,file), \"malva_polviflora/\", str(i))\n",
    "        img = img.resize([640, 640])"
   ]
  },
  {
   "cell_type": "markdown",
   "metadata": {},
   "source": [
    "# Polygonum"
   ]
  },
  {
   "cell_type": "code",
   "execution_count": 71,
   "metadata": {},
   "outputs": [],
   "source": [
    "path = \"D:/Técnicas avanzadas - Dataset/Polygonum_Convolvulus-20240515T231457Z-001/Polygonum_Convolvulus\"\n",
    "files = os.listdir(path)"
   ]
  },
  {
   "cell_type": "code",
   "execution_count": 72,
   "metadata": {},
   "outputs": [],
   "source": [
    "for i, file in enumerate(files):\n",
    "    if file.endswith(\"jpg\"):\n",
    "        img = make_square(os.path.join(path,file), \"polygonum/\", str(i))\n",
    "        img = img.resize([640, 640])"
   ]
  },
  {
   "cell_type": "markdown",
   "metadata": {},
   "source": [
    "# **Qualium**"
   ]
  },
  {
   "cell_type": "code",
   "execution_count": 73,
   "metadata": {},
   "outputs": [],
   "source": [
    "path = \"D:/Técnicas avanzadas - Dataset/qualium_aparine-20240515T231458Z-001/qualium_aparine\"\n",
    "files = os.listdir(path)"
   ]
  },
  {
   "cell_type": "code",
   "execution_count": 74,
   "metadata": {},
   "outputs": [],
   "source": [
    "for i, file in enumerate(files):\n",
    "    if file.endswith(\"jpg\"):\n",
    "        img = make_square(os.path.join(path,file), \"qualium/\", str(i))\n",
    "        img = img.resize([640, 640])"
   ]
  }
 ],
 "metadata": {
  "kernelspec": {
   "display_name": "Python 3",
   "language": "python",
   "name": "python3"
  },
  "language_info": {
   "codemirror_mode": {
    "name": "ipython",
    "version": 3
   },
   "file_extension": ".py",
   "mimetype": "text/x-python",
   "name": "python",
   "nbconvert_exporter": "python",
   "pygments_lexer": "ipython3",
   "version": "3.11.7"
  }
 },
 "nbformat": 4,
 "nbformat_minor": 2
}
